{
 "cells": [
  {
   "cell_type": "markdown",
   "metadata": {},
   "source": [
    "# Flatten Fonksiyonu"
   ]
  },
  {
   "cell_type": "markdown",
   "metadata": {},
   "source": [
    "for döngüsü kullanarak listenin içindeki elemanların tipinin liste olup olmadığını kontrol ettik ve liste olmayanları boş bir listenin içine aktardık"
   ]
  },
  {
   "cell_type": "code",
   "execution_count": 7,
   "metadata": {},
   "outputs": [
    {
     "name": "stdout",
     "output_type": "stream",
     "text": [
      "ilk liste: [[1, 'a', ['cat'], 2], [[[3]], 'dog'], 4, 5]\n",
      "dönüştürülmüş liste: [1, 'a', 'cat', 2, 3, 'dog', 4, 5]\n"
     ]
    }
   ],
   "source": [
    "input=[[1,'a',['cat'],2],[[[3]],'dog'],4,5]\n",
    "donusturulmus=[]\n",
    "\n",
    "def flatten(lists):\n",
    "    for i in lists:\n",
    "        if type(i)!=list:\n",
    "            donusturulmus.append(i)\n",
    "        else:\n",
    "            flatten(i)\n",
    "    return donusturulmus\n",
    "print(f\"ilk liste: {input}\")\n",
    "print(f\"dönüştürülmüş liste: {flatten(input)}\")\n",
    "                "
   ]
  },
  {
   "cell_type": "markdown",
   "metadata": {},
   "source": [
    "# Reverse Fonksiyonu"
   ]
  },
  {
   "cell_type": "code",
   "execution_count": 8,
   "metadata": {},
   "outputs": [
    {
     "name": "stdout",
     "output_type": "stream",
     "text": [
      "[[7, 6, 5], [4, 3], [2, 1]]\n"
     ]
    }
   ],
   "source": [
    "dizi = [[1, 2], [3, 4], [5, 6, 7]]\n",
    "\n",
    "\n",
    "def reverseDizi(x):\n",
    "    x.reverse()\n",
    "    for dizi in x:\n",
    "        if(type(dizi) == list):\n",
    "            reverseDizi(dizi)\n",
    "\n",
    "\n",
    "reverseDizi(dizi)\n",
    "print(dizi)"
   ]
  },
  {
   "cell_type": "code",
   "execution_count": null,
   "metadata": {},
   "outputs": [],
   "source": []
  }
 ],
 "metadata": {
  "kernelspec": {
   "display_name": "Python 3",
   "language": "python",
   "name": "python3"
  },
  "language_info": {
   "codemirror_mode": {
    "name": "ipython",
    "version": 3
   },
   "file_extension": ".py",
   "mimetype": "text/x-python",
   "name": "python",
   "nbconvert_exporter": "python",
   "pygments_lexer": "ipython3",
   "version": "3.8.5"
  }
 },
 "nbformat": 4,
 "nbformat_minor": 4
}
